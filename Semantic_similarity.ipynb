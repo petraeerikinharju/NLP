{
 "cells": [
  {
   "cell_type": "code",
   "execution_count": 9,
   "id": "a5783551-d5ec-4351-8df4-ac4756f4379d",
   "metadata": {},
   "outputs": [],
   "source": [
    "import csv\n",
    "import pandas as pd\n",
    "import nltk\n",
    "from nltk.corpus import wordnet as wn\n",
    "from nltk.tokenize import word_tokenize\n",
    "from sklearn.feature_extraction.text import TfidfVectorizer\n",
    "from scipy.stats import pearsonr"
   ]
  },
  {
   "cell_type": "code",
   "execution_count": 13,
   "id": "24b82757-638d-48f0-bcf4-cb3c9c8072fa",
   "metadata": {},
   "outputs": [],
   "source": [
    "def preProcess(sentence):\n",
    "    \"\"\"Tokenize, remove stopwords, and clean the sentence.\"\"\"\n",
    "    Stopwords = list(set(nltk.corpus.stopwords.words('english')))\n",
    "    words = word_tokenize(sentence)\n",
    "    words = [word.lower() for word in words if word.isalpha() and word not in Stopwords] \n",
    "    return words\n",
    "\n",
    "def get_wordnet_pos(word):\n",
    "    \"\"\"Map POS tag to first character for lemmatization with WordNet.\"\"\"\n",
    "    tag = nltk.pos_tag([word])[0][1][0].upper()\n",
    "    tag_dict = {\"J\": wn.ADJ, \"N\": wn.NOUN, \"V\": wn.VERB, \"R\": wn.ADV}\n",
    "    return tag_dict.get(tag, wn.NOUN)  \n",
    "\n",
    "def word_similarity(w1, w2):\n",
    "    \"\"\"Calculate similarity between two words only if they share the same POS.\"\"\"\n",
    "    pos1 = get_wordnet_pos(w1)\n",
    "    pos2 = get_wordnet_pos(w2)\n",
    "\n",
    "    synsets1 = wn.synsets(w1, pos=pos1)\n",
    "    synsets2 = wn.synsets(w2, pos=pos2)\n",
    "    \n",
    "    if synsets1 and synsets2:\n",
    "        S1 = synsets1[0]  \n",
    "        S2 = synsets2[0]  \n",
    "        try:\n",
    "            similarity = S1.wup_similarity(S2)\n",
    "            if similarity:\n",
    "                return round(similarity, 2)\n",
    "        except nltk.corpus.reader.wordnet.WordNetError:\n",
    "            return 0\n",
    "    return 0\n",
    "\n",
    "def Similarity(T1, T2):\n",
    "    \"\"\"Calculate sentence-to-sentence similarity using TF-IDF and WordNet similarity.\"\"\"\n",
    "    words1 = preProcess(T1)\n",
    "    words2 = preProcess(T2)\n",
    "\n",
    "    tf = TfidfVectorizer(use_idf=True)\n",
    "    tf.fit_transform([' '.join(words1), ' '.join(words2)])\n",
    "    \n",
    "    Idf = dict(zip(tf.get_feature_names_out(), tf.idf_))\n",
    "    \n",
    "    Sim_score1 = 0\n",
    "    Sim_score2 = 0\n",
    "\n",
    "    for w1 in words1:\n",
    "        Max = 0\n",
    "        for w2 in words2:\n",
    "            score = word_similarity(w1, w2)\n",
    "            if Max < score:\n",
    "                Max = score\n",
    "        Sim_score1 += Max * Idf.get(w1, 0)\n",
    "    Sim_score1 /= sum([Idf.get(w1, 0) for w1 in words1])\n",
    "\n",
    "    for w2 in words2:\n",
    "        Max = 0\n",
    "        for w1 in words1:\n",
    "            score = word_similarity(w1, w2)\n",
    "            if Max < score:\n",
    "                Max = score\n",
    "        Sim_score2 += Max * Idf.get(w2, 0)\n",
    "    Sim_score2 /= sum([Idf.get(w2, 0) for w2 in words2])\n",
    "\n",
    "    Sim = (Sim_score1 + Sim_score2) / 2\n",
    "    \n",
    "    return round(Sim, 2)\n",
    "\n",
    "def read_from_csv(file_path):\n",
    "    '''Read sentences and the corresponding similarity scores from a csv file'''\n",
    "    sentences = []\n",
    "    scores = []\n",
    "    \n",
    "    with open(file_path, mode='r', newline='', encoding='utf-8') as file:\n",
    "        reader = csv.reader(file, delimiter=';')\n",
    "        next(reader) # Skip the header\n",
    "        for row in reader:\n",
    "            if len(row) == 3:\n",
    "                sentence1, sentence2, score = row\n",
    "                sentences.append((sentence1.strip(), sentence2.strip()))  # Append tuple of sentences\n",
    "                scores.append(float(score.strip()))\n",
    "    return sentences, scores"
   ]
  },
  {
   "cell_type": "code",
   "execution_count": 16,
   "id": "0f5c5159-255c-4369-8640-5cc2146b449a",
   "metadata": {},
   "outputs": [
    {
     "name": "stdout",
     "output_type": "stream",
     "text": [
      "List lengths: 66, 66, 66\n",
      "Pearson correlation coefficient: 0.55\n"
     ]
    }
   ],
   "source": [
    "sentences, human_similarities = read_from_csv(\"STSS-131.csv\");\n",
    "\n",
    "computed_similarities = []\n",
    "for sentence1, sentence2 in sentences:\n",
    "    score = Similarity(sentence1, sentence2)\n",
    "    computed_similarities.append(score)\n",
    "    \n",
    "print(f\"List lengths: {len(sentences)}, {len(human_similarities)}, {len(computed_similarities)}\")\n",
    "\n",
    "df = pd.DataFrame({\n",
    "    'Sentence 1': [s[0] for s in sentences],\n",
    "    'Sentence 2': [s[1] for s in sentences],\n",
    "    'Human Similarity': human_similarities,\n",
    "    'Computed Similarity': computed_similarities\n",
    "})\n",
    "\n",
    "'''You can see the table in the GitHub'''\n",
    "df.to_excel('similarities.xlsx', index=False)\n",
    "\n",
    "correlation_coefficient, p_value = pearsonr(human_similarities, computed_similarities)\n",
    "\n",
    "print(f\"Pearson correlation coefficient: {correlation_coefficient:.2f}\")"
   ]
  },
  {
   "cell_type": "code",
   "execution_count": 5,
   "id": "d1e561d7-e09e-4279-9638-6fe04739b82c",
   "metadata": {},
   "outputs": [
    {
     "name": "stdout",
     "output_type": "stream",
     "text": [
      "Collecting openpyxl\n",
      "  Downloading openpyxl-3.1.5-py2.py3-none-any.whl.metadata (2.5 kB)\n",
      "Collecting et-xmlfile (from openpyxl)\n",
      "  Downloading et_xmlfile-1.1.0-py3-none-any.whl.metadata (1.8 kB)\n",
      "Downloading openpyxl-3.1.5-py2.py3-none-any.whl (250 kB)\n",
      "Downloading et_xmlfile-1.1.0-py3-none-any.whl (4.7 kB)\n",
      "Installing collected packages: et-xmlfile, openpyxl\n",
      "Successfully installed et-xmlfile-1.1.0 openpyxl-3.1.5\n"
     ]
    }
   ],
   "source": []
  }
 ],
 "metadata": {
  "kernelspec": {
   "display_name": "Python 3",
   "language": "python",
   "name": "python3"
  },
  "language_info": {
   "codemirror_mode": {
    "name": "ipython",
    "version": 3
   },
   "file_extension": ".py",
   "mimetype": "text/x-python",
   "name": "python",
   "nbconvert_exporter": "python",
   "pygments_lexer": "ipython3",
   "version": "3.12.6"
  }
 },
 "nbformat": 4,
 "nbformat_minor": 5
}
